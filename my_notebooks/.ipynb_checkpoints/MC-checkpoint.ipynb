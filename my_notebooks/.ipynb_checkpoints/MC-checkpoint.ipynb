{
 "cells": [
  {
   "cell_type": "code",
   "execution_count": 1,
   "id": "ac0cadf0-c9c8-45fa-91a9-4e4261c54716",
   "metadata": {},
   "outputs": [
    {
     "name": "stdout",
     "output_type": "stream",
     "text": [
      "Welcome to JupyROOT 6.19/01\n"
     ]
    }
   ],
   "source": [
    "import numpy as np\n",
    "import scipy as sp; import matplotlib.pyplot as plt\n",
    "import scipy.optimize as op\n",
    "import ROOT"
   ]
  },
  {
   "cell_type": "markdown",
   "id": "3cb8d32a-edf3-495b-9fe7-54c06289213b",
   "metadata": {},
   "source": [
    "MC (Monte Carlo) methods all try to approximate an intrigral by using random numbers (or distributions which you can randomly sample from). Say you have a difficult integral $d(x)$ which you can't analytically calculate\n",
    "\n",
    "$d(x) = \\int D(x|y) p(y) dy$\n",
    "\n",
    "Then you can calculate the above integral if you can sample from $p(y)$. The above integral can be view in HEP POV so that $y$ is the observable (say cross section) at the parton level, and $x$ is the observable at the detecotr level, so $p(y) = p(\\sigma_{parton}), \\ p(x) = p(\\sigma_{detector})$, and $D(x|y)$ is the detector response (the mapping from the level of partons to the level of the detector which we see).\n",
    "\n",
    "Now if we can sample $\\sigma_{parton} = \\hat{\\sigma}_{parton} \\tilde p(\\sigma_{parton})$ from an event generator, then we can approximate the above integral as\n",
    "\n",
    "$$ \\hat{d}(x) = \\frac{1}{n} \\sum_{i=0}^n D(x| \\hat{\\sigma}_{parton, i})$$\n",
    "\n",
    "And the law of large numbers guarantees that $\\hat{d}(x) \\rightarrow d(x) $ as $n\\rightarrow \\infty$.\n",
    "\n",
    "Note that the variance $Var(\\hat{d}(x)) = Var(D)/n$, independently of the dimensionality of the integral. One way to reduce the variance is to multiply by $1=\\frac{g(y)}{g(y)}$, so \n",
    "\n",
    "$d(x) = \\int D(x|y) p(y) \\frac{g(y)}{g(y)} dy$\n"
   ]
  },
  {
   "cell_type": "code",
   "execution_count": null,
   "id": "23b61410-aaa3-4346-8504-2866d9815189",
   "metadata": {},
   "outputs": [],
   "source": []
  }
 ],
 "metadata": {
  "kernelspec": {
   "display_name": "Python 3 (ipykernel)",
   "language": "python",
   "name": "python3"
  },
  "language_info": {
   "codemirror_mode": {
    "name": "ipython",
    "version": 3
   },
   "file_extension": ".py",
   "mimetype": "text/x-python",
   "name": "python",
   "nbconvert_exporter": "python",
   "pygments_lexer": "ipython3",
   "version": "3.7.7"
  }
 },
 "nbformat": 4,
 "nbformat_minor": 5
}
