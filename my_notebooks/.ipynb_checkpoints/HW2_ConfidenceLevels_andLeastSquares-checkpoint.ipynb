{
 "cells": [
  {
   "cell_type": "code",
   "execution_count": 2,
   "id": "31812bd6-d601-4254-8318-72c167da158e",
   "metadata": {},
   "outputs": [
    {
     "name": "stdout",
     "output_type": "stream",
     "text": [
      "Welcome to JupyROOT 6.19/01\n"
     ]
    }
   ],
   "source": [
    "N=4000\n",
    "import numpy as np\n",
    "import scipy as sp; import matplotlib.pyplot as plt\n",
    "import scipy.optimize as op\n",
    "import ROOT"
   ]
  },
  {
   "cell_type": "code",
   "execution_count": 6,
   "id": "b782dedf-2344-459a-845b-429437a2e272",
   "metadata": {},
   "outputs": [
    {
     "data": {
      "text/plain": [
       "<matplotlib.legend.Legend at 0x7fd99511ce10>"
      ]
     },
     "execution_count": 6,
     "metadata": {},
     "output_type": "execute_result"
    },
    {
     "data": {
      "image/png": "[encoded data removed]",
      "text/plain": [
       "<Figure size 432x288 with 1 Axes>"
      ]
     },
     "metadata": {
      "needs_background": "light"
     },
     "output_type": "display_data"
    }
   ],
   "source": [
    "x = sp.random.normal(0,1 , size=N)\n",
    "y = sp.random.normal(0, 1, size=N)\n",
    "z = [x*y for x,y in zip(x,y)]\n",
    "plt.hist(np.array(z), label='$z=xy$')\n",
    "plt.hist(x, label='$x \\~ \\mathcal{N}(0, 1)$'); plt.hist(y,label='$y \\~ \\mathcal{N}(0, 1)$')\n",
    "plt.legend()"
   ]
  },
  {
   "cell_type": "code",
   "execution_count": 3,
   "id": "33e12e50-e513-47db-ae5e-ebaa7ae4f96c",
   "metadata": {},
   "outputs": [
    {
     "name": "stdout",
     "output_type": "stream",
     "text": [
      "0.134016241\n"
     ]
    }
   ],
   "source": [
    "def pdf_analytical(t, N=1000, zmin=0.0, zmax=1.0):\n",
    "    def integrand(t,z):\n",
    "        tt = t*t\n",
    "        zz = (z/(1 - z))**2\n",
    "        return np.exp(-(zz + tt/zz)/2)/(z*(1 - z))\n",
    "    #now return the integrated pdf (integtate)\n",
    "    dz = (zmax-zmin)/N\n",
    "    a = dz / np.pi\n",
    "    return a * sum([integrand(t, zmin + (i+0.5)*dz) for i in range(N)])\n",
    "print('%10.9f' % pdf_analytical(1))\n",
    "    "
   ]
  },
  {
   "cell_type": "code",
   "execution_count": 9,
   "id": "4b4534a7-5c26-4ef3-9aef-516d7d503b4c",
   "metadata": {},
   "outputs": [
    {
     "name": "stdout",
     "output_type": "stream",
     "text": [
      "x are the bein eges, x=\n",
      " [-6.   -5.98 -5.96 -5.94 -5.92 -5.9  -5.88 -5.86 -5.84 -5.82 -5.8  -5.78\n",
      " -5.76 -5.74 -5.72 -5.7  -5.68 -5.66 -5.64 -5.62 -5.6  -5.58 -5.56 -5.54\n",
      " -5.52 -5.5  -5.48 -5.46 -5.44 -5.42 -5.4  -5.38 -5.36 -5.34 -5.32 -5.3\n",
      " -5.28 -5.26 -5.24 -5.22 -5.2  -5.18 -5.16 -5.14 -5.12 -5.1  -5.08 -5.06\n",
      " -5.04 -5.02 -5.   -4.98 -4.96 -4.94 -4.92 -4.9  -4.88 -4.86 -4.84 -4.82\n",
      " -4.8  -4.78 -4.76 -4.74 -4.72 -4.7  -4.68 -4.66 -4.64 -4.62 -4.6  -4.58\n",
      " -4.56 -4.54 -4.52 -4.5  -4.48 -4.46 -4.44 -4.42 -4.4  -4.38 -4.36 -4.34\n",
      " -4.32 -4.3  -4.28 -4.26 -4.24 -4.22 -4.2  -4.18 -4.16 -4.14 -4.12 -4.1\n",
      " -4.08 -4.06 -4.04 -4.02 -4.   -3.98 -3.96 -3.94 -3.92 -3.9  -3.88 -3.86\n",
      " -3.84 -3.82 -3.8  -3.78 -3.76 -3.74 -3.72 -3.7  -3.68 -3.66 -3.64 -3.62\n",
      " -3.6  -3.58 -3.56 -3.54 -3.52 -3.5  -3.48 -3.46 -3.44 -3.42 -3.4  -3.38\n",
      " -3.36 -3.34 -3.32 -3.3  -3.28 -3.26 -3.24 -3.22 -3.2  -3.18 -3.16 -3.14\n",
      " -3.12 -3.1  -3.08 -3.06 -3.04 -3.02 -3.   -2.98 -2.96 -2.94 -2.92 -2.9\n",
      " -2.88 -2.86 -2.84 -2.82 -2.8  -2.78 -2.76 -2.74 -2.72 -2.7  -2.68 -2.66\n",
      " -2.64 -2.62 -2.6  -2.58 -2.56 -2.54 -2.52 -2.5  -2.48 -2.46 -2.44 -2.42\n",
      " -2.4  -2.38 -2.36 -2.34 -2.32 -2.3  -2.28 -2.26 -2.24 -2.22 -2.2  -2.18\n",
      " -2.16 -2.14 -2.12 -2.1  -2.08 -2.06 -2.04 -2.02 -2.   -1.98 -1.96 -1.94\n",
      " -1.92 -1.9  -1.88 -1.86 -1.84 -1.82 -1.8  -1.78 -1.76 -1.74 -1.72 -1.7\n",
      " -1.68 -1.66 -1.64 -1.62 -1.6  -1.58 -1.56 -1.54 -1.52 -1.5  -1.48 -1.46\n",
      " -1.44 -1.42 -1.4  -1.38 -1.36 -1.34 -1.32 -1.3  -1.28 -1.26 -1.24 -1.22\n",
      " -1.2  -1.18 -1.16 -1.14 -1.12 -1.1  -1.08 -1.06 -1.04 -1.02 -1.   -0.98\n",
      " -0.96 -0.94 -0.92 -0.9  -0.88 -0.86 -0.84 -0.82 -0.8  -0.78 -0.76 -0.74\n",
      " -0.72 -0.7  -0.68 -0.66 -0.64 -0.62 -0.6  -0.58 -0.56 -0.54 -0.52 -0.5\n",
      " -0.48 -0.46 -0.44 -0.42 -0.4  -0.38 -0.36 -0.34 -0.32 -0.3  -0.28 -0.26\n",
      " -0.24 -0.22 -0.2  -0.18 -0.16 -0.14 -0.12 -0.1  -0.08 -0.06 -0.04 -0.02\n",
      "  0.    0.02  0.04  0.06  0.08  0.1   0.12  0.14  0.16  0.18  0.2   0.22\n",
      "  0.24  0.26  0.28  0.3   0.32  0.34  0.36  0.38  0.4   0.42  0.44  0.46\n",
      "  0.48  0.5   0.52  0.54  0.56  0.58  0.6   0.62  0.64  0.66  0.68  0.7\n",
      "  0.72  0.74  0.76  0.78  0.8   0.82  0.84  0.86  0.88  0.9   0.92  0.94\n",
      "  0.96  0.98  1.    1.02  1.04  1.06  1.08  1.1   1.12  1.14  1.16  1.18\n",
      "  1.2   1.22  1.24  1.26  1.28  1.3   1.32  1.34  1.36  1.38  1.4   1.42\n",
      "  1.44  1.46  1.48  1.5   1.52  1.54  1.56  1.58  1.6   1.62  1.64  1.66\n",
      "  1.68  1.7   1.72  1.74  1.76  1.78  1.8   1.82  1.84  1.86  1.88  1.9\n",
      "  1.92  1.94  1.96  1.98  2.    2.02  2.04  2.06  2.08  2.1   2.12  2.14\n",
      "  2.16  2.18  2.2   2.22  2.24  2.26  2.28  2.3   2.32  2.34  2.36  2.38\n",
      "  2.4   2.42  2.44  2.46  2.48  2.5   2.52  2.54  2.56  2.58  2.6   2.62\n",
      "  2.64  2.66  2.68  2.7   2.72  2.74  2.76  2.78  2.8   2.82  2.84  2.86\n",
      "  2.88  2.9   2.92  2.94  2.96  2.98  3.    3.02  3.04  3.06  3.08  3.1\n",
      "  3.12  3.14  3.16  3.18  3.2   3.22  3.24  3.26  3.28  3.3   3.32  3.34\n",
      "  3.36  3.38  3.4   3.42  3.44  3.46  3.48  3.5   3.52  3.54  3.56  3.58\n",
      "  3.6   3.62  3.64  3.66  3.68  3.7   3.72  3.74  3.76  3.78  3.8   3.82\n",
      "  3.84  3.86  3.88  3.9   3.92  3.94  3.96  3.98  4.    4.02  4.04  4.06\n",
      "  4.08  4.1   4.12  4.14  4.16  4.18  4.2   4.22  4.24  4.26  4.28  4.3\n",
      "  4.32  4.34  4.36  4.38  4.4   4.42  4.44  4.46  4.48  4.5   4.52  4.54\n",
      "  4.56  4.58  4.6   4.62  4.64  4.66  4.68  4.7   4.72  4.74  4.76  4.78\n",
      "  4.8   4.82  4.84  4.86  4.88  4.9   4.92  4.94  4.96  4.98  5.    5.02\n",
      "  5.04  5.06  5.08  5.1   5.12  5.14  5.16  5.18  5.2   5.22  5.24  5.26\n",
      "  5.28  5.3   5.32  5.34  5.36  5.38  5.4   5.42  5.44  5.46  5.48  5.5\n",
      "  5.52  5.54  5.56  5.58  5.6   5.62  5.64  5.66  5.68  5.7   5.72  5.74\n",
      "  5.76  5.78  5.8   5.82  5.84  5.86  5.88  5.9   5.92  5.94  5.96  5.98\n",
      "  6.  ]\n"
     ]
    },
    {
     "data": {
      "image/png": "[encoded data removed]",
      "text/plain": [
       "<Figure size 576x360 with 1 Axes>"
      ]
     },
     "metadata": {
      "needs_background": "light"
     },
     "output_type": "display_data"
    }
   ],
   "source": [
    "nbins=600 \n",
    "xmin=-6; xmax=6\n",
    "ymin= 0; ymax=2.0\n",
    "ftsize=24 \n",
    "color=(0.1,0.3,0.8) \n",
    "fgsize=(8,5)\n",
    "plt.figure(figsize=fgsize)\n",
    "\n",
    "\n",
    "y, x, _ = plt.hist(z, \n",
    "                   bins=nbins, \n",
    "                   color=color,\n",
    "                   alpha=0.20,\n",
    "                   range=(xmin, xmax), \n",
    "                   density=True, label='simulation by sp.random.normal' )\n",
    "print('x are the bein eges, x=\\n', x)"
   ]
  },
  {
   "cell_type": "code",
   "execution_count": 11,
   "id": "77fc5ef1-6b3a-4c2b-8996-4e03a0d3ea2b",
   "metadata": {},
   "outputs": [
    {
     "name": "stdout",
     "output_type": "stream",
     "text": [
      "[-5.99 -5.97 -5.95 -5.93 -5.91 -5.89 -5.87 -5.85 -5.83 -5.81 -5.79 -5.77\n",
      " -5.75 -5.73 -5.71 -5.69 -5.67 -5.65 -5.63 -5.61 -5.59 -5.57 -5.55 -5.53\n",
      " -5.51 -5.49 -5.47 -5.45 -5.43 -5.41 -5.39 -5.37 -5.35 -5.33 -5.31 -5.29\n",
      " -5.27 -5.25 -5.23 -5.21 -5.19 -5.17 -5.15 -5.13 -5.11 -5.09 -5.07 -5.05\n",
      " -5.03 -5.01 -4.99 -4.97 -4.95 -4.93 -4.91 -4.89 -4.87 -4.85 -4.83 -4.81\n",
      " -4.79 -4.77 -4.75 -4.73 -4.71 -4.69 -4.67 -4.65 -4.63 -4.61 -4.59 -4.57\n",
      " -4.55 -4.53 -4.51 -4.49 -4.47 -4.45 -4.43 -4.41 -4.39 -4.37 -4.35 -4.33\n",
      " -4.31 -4.29 -4.27 -4.25 -4.23 -4.21 -4.19 -4.17 -4.15 -4.13 -4.11 -4.09\n",
      " -4.07 -4.05 -4.03 -4.01 -3.99 -3.97 -3.95 -3.93 -3.91 -3.89 -3.87 -3.85\n",
      " -3.83 -3.81 -3.79 -3.77 -3.75 -3.73 -3.71 -3.69 -3.67 -3.65 -3.63 -3.61\n",
      " -3.59 -3.57 -3.55 -3.53 -3.51 -3.49 -3.47 -3.45 -3.43 -3.41 -3.39 -3.37\n",
      " -3.35 -3.33 -3.31 -3.29 -3.27 -3.25 -3.23 -3.21 -3.19 -3.17 -3.15 -3.13\n",
      " -3.11 -3.09 -3.07 -3.05 -3.03 -3.01 -2.99 -2.97 -2.95 -2.93 -2.91 -2.89\n",
      " -2.87 -2.85 -2.83 -2.81 -2.79 -2.77 -2.75 -2.73 -2.71 -2.69 -2.67 -2.65\n",
      " -2.63 -2.61 -2.59 -2.57 -2.55 -2.53 -2.51 -2.49 -2.47 -2.45 -2.43 -2.41\n",
      " -2.39 -2.37 -2.35 -2.33 -2.31 -2.29 -2.27 -2.25 -2.23 -2.21 -2.19 -2.17\n",
      " -2.15 -2.13 -2.11 -2.09 -2.07 -2.05 -2.03 -2.01 -1.99 -1.97 -1.95 -1.93\n",
      " -1.91 -1.89 -1.87 -1.85 -1.83 -1.81 -1.79 -1.77 -1.75 -1.73 -1.71 -1.69\n",
      " -1.67 -1.65 -1.63 -1.61 -1.59 -1.57 -1.55 -1.53 -1.51 -1.49 -1.47 -1.45\n",
      " -1.43 -1.41 -1.39 -1.37 -1.35 -1.33 -1.31 -1.29 -1.27 -1.25 -1.23 -1.21\n",
      " -1.19 -1.17 -1.15 -1.13 -1.11 -1.09 -1.07 -1.05 -1.03 -1.01 -0.99 -0.97\n",
      " -0.95 -0.93 -0.91 -0.89 -0.87 -0.85 -0.83 -0.81 -0.79 -0.77 -0.75 -0.73\n",
      " -0.71 -0.69 -0.67 -0.65 -0.63 -0.61 -0.59 -0.57 -0.55 -0.53 -0.51 -0.49\n",
      " -0.47 -0.45 -0.43 -0.41 -0.39 -0.37 -0.35 -0.33 -0.31 -0.29 -0.27 -0.25\n",
      " -0.23 -0.21 -0.19 -0.17 -0.15 -0.13 -0.11 -0.09 -0.07 -0.05 -0.03 -0.01\n",
      "  0.01  0.03  0.05  0.07  0.09  0.11  0.13  0.15  0.17  0.19  0.21  0.23\n",
      "  0.25  0.27  0.29  0.31  0.33  0.35  0.37  0.39  0.41  0.43  0.45  0.47\n",
      "  0.49  0.51  0.53  0.55  0.57  0.59  0.61  0.63  0.65  0.67  0.69  0.71\n",
      "  0.73  0.75  0.77  0.79  0.81  0.83  0.85  0.87  0.89  0.91  0.93  0.95\n",
      "  0.97  0.99  1.01  1.03  1.05  1.07  1.09  1.11  1.13  1.15  1.17  1.19\n",
      "  1.21  1.23  1.25  1.27  1.29  1.31  1.33  1.35  1.37  1.39  1.41  1.43\n",
      "  1.45  1.47  1.49  1.51  1.53  1.55  1.57  1.59  1.61  1.63  1.65  1.67\n",
      "  1.69  1.71  1.73  1.75  1.77  1.79  1.81  1.83  1.85  1.87  1.89  1.91\n",
      "  1.93  1.95  1.97  1.99  2.01  2.03  2.05  2.07  2.09  2.11  2.13  2.15\n",
      "  2.17  2.19  2.21  2.23  2.25  2.27  2.29  2.31  2.33  2.35  2.37  2.39\n",
      "  2.41  2.43  2.45  2.47  2.49  2.51  2.53  2.55  2.57  2.59  2.61  2.63\n",
      "  2.65  2.67  2.69  2.71  2.73  2.75  2.77  2.79  2.81  2.83  2.85  2.87\n",
      "  2.89  2.91  2.93  2.95  2.97  2.99  3.01  3.03  3.05  3.07  3.09  3.11\n",
      "  3.13  3.15  3.17  3.19  3.21  3.23  3.25  3.27  3.29  3.31  3.33  3.35\n",
      "  3.37  3.39  3.41  3.43  3.45  3.47  3.49  3.51  3.53  3.55  3.57  3.59\n",
      "  3.61  3.63  3.65  3.67  3.69  3.71  3.73  3.75  3.77  3.79  3.81  3.83\n",
      "  3.85  3.87  3.89  3.91  3.93  3.95  3.97  3.99  4.01  4.03  4.05  4.07\n",
      "  4.09  4.11  4.13  4.15  4.17  4.19  4.21  4.23  4.25  4.27  4.29  4.31\n",
      "  4.33  4.35  4.37  4.39  4.41  4.43  4.45  4.47  4.49  4.51  4.53  4.55\n",
      "  4.57  4.59  4.61  4.63  4.65  4.67  4.69  4.71  4.73  4.75  4.77  4.79\n",
      "  4.81  4.83  4.85  4.87  4.89  4.91  4.93  4.95  4.97  4.99  5.01  5.03\n",
      "  5.05  5.07  5.09  5.11  5.13  5.15  5.17  5.19  5.21  5.23  5.25  5.27\n",
      "  5.29  5.31  5.33  5.35  5.37  5.39  5.41  5.43  5.45  5.47  5.49  5.51\n",
      "  5.53  5.55  5.57  5.59  5.61  5.63  5.65  5.67  5.69  5.71  5.73  5.75\n",
      "  5.77  5.79  5.81  5.83  5.85  5.87  5.89  5.91  5.93  5.95  5.97  5.99]\n"
     ]
    }
   ],
   "source": [
    "# convert bin edges to centers of bins\n",
    "m = (x[:-1]+x[1:])/2.0\n",
    "print(m)"
   ]
  },
  {
   "cell_type": "code",
   "execution_count": 14,
   "id": "126d988c-f240-47c6-a93d-25b732f75aa5",
   "metadata": {},
   "outputs": [
    {
     "name": "stdout",
     "output_type": "stream",
     "text": [
      "pdf analytical at this bin is 0.000400276972430581 \n",
      "\n",
      "pdf analytical at this bin is 0.00040902180249591187 \n",
      "\n",
      "pdf analytical at this bin is 0.0004179598665324763 \n",
      "\n",
      "pdf analytical at this bin is 0.00042709549625905257 \n",
      "\n",
      "pdf analytical at this bin is 0.0004364331223017941 \n",
      "\n"
     ]
    }
   ],
   "source": [
    "for i in m[:5]:\n",
    "    print('pdf analytical at this bin is', pdf_analytical(i), '\\n')"
   ]
  },
  {
   "cell_type": "code",
   "execution_count": 18,
   "id": "a00a927b-85b9-456d-936e-98bef5fbd378",
   "metadata": {},
   "outputs": [
    {
     "data": {
      "text/plain": [
       "<matplotlib.legend.Legend at 0x7fa58c38f450>"
      ]
     },
     "execution_count": 18,
     "metadata": {},
     "output_type": "execute_result"
    },
    {
     "data": {
      "image/png": "[encoded data removed]",
      "text/plain": [
       "<Figure size 432x288 with 1 Axes>"
      ]
     },
     "metadata": {
      "needs_background": "light"
     },
     "output_type": "display_data"
    }
   ],
   "source": [
    "#even though the bin edges where from the simulation, we can still use them to evaluate the pdf at those points\n",
    "r = np.array([pdf_analytical(i) for i in m])\n",
    "y, x, _ = plt.hist(z, \n",
    "                   bins=nbins, \n",
    "                   color=color,\n",
    "                   alpha=0.20,\n",
    "                   range=(xmin, xmax), \n",
    "                   density=True, label='simulation by sp.random.normal' )\n",
    "plt.plot(m, r, label='analytical pdf')\n",
    "plt.legend()"
   ]
  },
  {
   "cell_type": "markdown",
   "id": "e888d787-ffb6-41dd-8552-3b6bbef54f83",
   "metadata": {},
   "source": [
    "# Assignment 2\n",
    "# #2\n",
    "Complete the calculation of $[ \\mu_L, \\mu_R ]$ for the Ebola problem\n",
    "\n",
    "Recall that the ebola problem says that the number of people infected with Ebola takes a poisson distribution, where the observed count of people infected in the united states is $N$, so the probability takes the form\n",
    "\n",
    "$$ P(N|\\mu) = \\frac{e^{-\\mu} \\mu^N}{N !} =  \\frac{e^{-\\mu} \\mu^4}{4 !}$$\n",
    "\n",
    "We want to calculate $\\mu \\in [\\mu_L, \\mu_R]$ for 68% CL. Recall that the CK is the minimum fraction of statements of the form $\\mu \\in [\\mu_L, \\mu_R]$, over an ensemble of statements (each statement satisfies a different range for $\\mu$). The equations to solve to get the $\\mu_{L,R}$ are the left and right distributions, where we guarantee a particular value for the CL \n",
    "\n",
    "$$ D_L (N, \\mu) = (1-CL)/2$$\n",
    "$$ D_R (N, \\mu) = (1-CL)/2$$\n",
    "Where \n",
    "$$ D_L (N, \\mu) = \\sum_{k=0}^N Poiss(k,\\mu) = \\sum_{k=0}^N \\frac{e^{-\\mu} \\mu^k}{k!}$$\n",
    "$$ D_R (N, \\mu) = \\sum_{k=0}^N Poiss(k,\\mu) = \\sum_{k=N}^\\infty \\frac{e^{-\\mu} \\mu^k}{k!}$$\n",
    "$$ D_R (N, \\mu) = P(N, \\mu)$$\n",
    "$$ D_L (N, \\mu) =1- P(N, \\mu)$$\n",
    "Where $P(\\alpha, \\mu) = IncompGamma(\\alpha,\\mu)$ so\n",
    "$$ (1-CL)/2 = IncompGamma(\\alpha,\\mu)$$\n",
    "$$ (1-CL)/2 = 1- IncompGamma(\\alpha,\\mu)$$\n",
    "+1"
   ]
  },
  {
   "cell_type": "code",
   "execution_count": 32,
   "id": "ffa026b4-29ad-466d-8b2d-acaeff58466c",
   "metadata": {},
   "outputs": [],
   "source": [
    "def DR(n, mu):\n",
    "    return sp.special.gammainc(n, mu)\n",
    "def DL(n, mu):\n",
    "    return 1- sp.special.gammainc(n+1, mu)"
   ]
  },
  {
   "cell_type": "markdown",
   "id": "36ca9523-1cda-40fb-920f-b13cafc7888f",
   "metadata": {},
   "source": [
    "The algorithm then is to\n",
    "\n",
    "Solve $(1-CL)/2 = D_R \\rightarrow$ get $\\mu_R$\n",
    "\n",
    "Solve $(1-CL)/2=D_L \\rightarrow$ get $\\mu_L$\n"
   ]
  },
  {
   "cell_type": "code",
   "execution_count": 33,
   "id": "6295e351-5faf-4b82-b501-8bd47f673c2a",
   "metadata": {},
   "outputs": [],
   "source": [
    "def FR(n,mu):\n",
    "    return DR(n, mu) - (1-CL)/2\n",
    "def FL(n,mu):\n",
    "    return DL(n,mu) - (1-CL)/2"
   ]
  },
  {
   "cell_type": "markdown",
   "id": "6d258dec-0b52-40cc-9abf-23551eadaad9",
   "metadata": {},
   "source": [
    "Now we can solve (find the roots of) these two equations by using scipy's brentq function. FR returns the equation $D_R- (1-CL)/2 =0$ and FL returns the equuation  $D_L- (1-CL)/2 =0$"
   ]
  },
  {
   "cell_type": "code",
   "execution_count": 34,
   "id": "7e10dbf7-f736-4d2a-b060-29120c92bf97",
   "metadata": {},
   "outputs": [],
   "source": [
    "def compute_interval(n):\n",
    "    dn = 2*np.sqrt(n)\n",
    "    # find muL\n",
    "    amin = max(0, n - dn) # lower bound of range to search for solution\n",
    "    amax = n # upper bound of range to search for solution\n",
    "    muL = op.brentq(FR, amin, amax, args=(n,))\n",
    "    # find muU\n",
    "    amin = n\n",
    "    amax = n + dn + 5\n",
    "    muU = op.brentq(FL, amin, amax, args=(n,))\n",
    "    return (muL, muU)"
   ]
  },
  {
   "cell_type": "code",
   "execution_count": 35,
   "id": "d03e36e4-a518-4fed-bab9-e8c04fa77497",
   "metadata": {},
   "outputs": [
    {
     "ename": "ValueError",
     "evalue": "f(a) and f(b) must have different signs",
     "output_type": "error",
     "traceback": [
      "\u001b[0;31m---------------------------------------------------------------------------\u001b[0m",
      "\u001b[0;31mValueError\u001b[0m                                Traceback (most recent call last)",
      "\u001b[0;32m/tmp/ipykernel_11641/595374699.py\u001b[0m in \u001b[0;36m<module>\u001b[0;34m\u001b[0m\n\u001b[1;32m      1\u001b[0m \u001b[0mN\u001b[0m\u001b[0;34m=\u001b[0m\u001b[0;36m4\u001b[0m\u001b[0;34m\u001b[0m\u001b[0;34m\u001b[0m\u001b[0m\n\u001b[1;32m      2\u001b[0m \u001b[0mCL\u001b[0m\u001b[0;34m=\u001b[0m\u001b[0;36m0.693\u001b[0m\u001b[0;34m\u001b[0m\u001b[0;34m\u001b[0m\u001b[0m\n\u001b[0;32m----> 3\u001b[0;31m \u001b[0mmuL\u001b[0m\u001b[0;34m,\u001b[0m \u001b[0mmuU\u001b[0m \u001b[0;34m=\u001b[0m \u001b[0mcompute_interval\u001b[0m\u001b[0;34m(\u001b[0m\u001b[0mN\u001b[0m\u001b[0;34m)\u001b[0m\u001b[0;34m\u001b[0m\u001b[0;34m\u001b[0m\u001b[0m\n\u001b[0m\u001b[1;32m      4\u001b[0m \u001b[0mprint\u001b[0m\u001b[0;34m(\u001b[0m\u001b[0;34m'N = 4, mu in [%3.1f, %3.1f] @ 68%s CL'\u001b[0m \u001b[0;34m%\u001b[0m \u001b[0;34m(\u001b[0m\u001b[0mmuL\u001b[0m\u001b[0;34m,\u001b[0m \u001b[0mmuU\u001b[0m\u001b[0;34m,\u001b[0m \u001b[0;34m'%'\u001b[0m\u001b[0;34m)\u001b[0m\u001b[0;34m)\u001b[0m\u001b[0;34m\u001b[0m\u001b[0;34m\u001b[0m\u001b[0m\n",
      "\u001b[0;32m/tmp/ipykernel_11641/3769857563.py\u001b[0m in \u001b[0;36mcompute_interval\u001b[0;34m(n)\u001b[0m\n\u001b[1;32m      4\u001b[0m     \u001b[0mamin\u001b[0m \u001b[0;34m=\u001b[0m \u001b[0mmax\u001b[0m\u001b[0;34m(\u001b[0m\u001b[0;36m0\u001b[0m\u001b[0;34m,\u001b[0m \u001b[0mn\u001b[0m \u001b[0;34m-\u001b[0m \u001b[0mdn\u001b[0m\u001b[0;34m)\u001b[0m \u001b[0;31m# lower bound of range to search for solution\u001b[0m\u001b[0;34m\u001b[0m\u001b[0;34m\u001b[0m\u001b[0m\n\u001b[1;32m      5\u001b[0m     \u001b[0mamax\u001b[0m \u001b[0;34m=\u001b[0m \u001b[0mn\u001b[0m \u001b[0;31m# upper bound of range to search for solution\u001b[0m\u001b[0;34m\u001b[0m\u001b[0;34m\u001b[0m\u001b[0m\n\u001b[0;32m----> 6\u001b[0;31m     \u001b[0mmuL\u001b[0m \u001b[0;34m=\u001b[0m \u001b[0mop\u001b[0m\u001b[0;34m.\u001b[0m\u001b[0mbrentq\u001b[0m\u001b[0;34m(\u001b[0m\u001b[0mFR\u001b[0m\u001b[0;34m,\u001b[0m \u001b[0mamin\u001b[0m\u001b[0;34m,\u001b[0m \u001b[0mamax\u001b[0m\u001b[0;34m,\u001b[0m \u001b[0margs\u001b[0m\u001b[0;34m=\u001b[0m\u001b[0;34m(\u001b[0m\u001b[0mn\u001b[0m\u001b[0;34m,\u001b[0m\u001b[0;34m)\u001b[0m\u001b[0;34m)\u001b[0m\u001b[0;34m\u001b[0m\u001b[0;34m\u001b[0m\u001b[0m\n\u001b[0m\u001b[1;32m      7\u001b[0m     \u001b[0;31m# find muU\u001b[0m\u001b[0;34m\u001b[0m\u001b[0;34m\u001b[0m\u001b[0;34m\u001b[0m\u001b[0m\n\u001b[1;32m      8\u001b[0m     \u001b[0mamin\u001b[0m \u001b[0;34m=\u001b[0m \u001b[0mn\u001b[0m\u001b[0;34m\u001b[0m\u001b[0;34m\u001b[0m\u001b[0m\n",
      "\u001b[0;32m~/anaconda3/lib/python3.7/site-packages/scipy/optimize/zeros.py\u001b[0m in \u001b[0;36mbrentq\u001b[0;34m(f, a, b, args, xtol, rtol, maxiter, full_output, disp)\u001b[0m\n\u001b[1;32m    774\u001b[0m     \u001b[0;32mif\u001b[0m \u001b[0mrtol\u001b[0m \u001b[0;34m<\u001b[0m \u001b[0m_rtol\u001b[0m\u001b[0;34m:\u001b[0m\u001b[0;34m\u001b[0m\u001b[0;34m\u001b[0m\u001b[0m\n\u001b[1;32m    775\u001b[0m         \u001b[0;32mraise\u001b[0m \u001b[0mValueError\u001b[0m\u001b[0;34m(\u001b[0m\u001b[0;34m\"rtol too small (%g < %g)\"\u001b[0m \u001b[0;34m%\u001b[0m \u001b[0;34m(\u001b[0m\u001b[0mrtol\u001b[0m\u001b[0;34m,\u001b[0m \u001b[0m_rtol\u001b[0m\u001b[0;34m)\u001b[0m\u001b[0;34m)\u001b[0m\u001b[0;34m\u001b[0m\u001b[0;34m\u001b[0m\u001b[0m\n\u001b[0;32m--> 776\u001b[0;31m     \u001b[0mr\u001b[0m \u001b[0;34m=\u001b[0m \u001b[0m_zeros\u001b[0m\u001b[0;34m.\u001b[0m\u001b[0m_brentq\u001b[0m\u001b[0;34m(\u001b[0m\u001b[0mf\u001b[0m\u001b[0;34m,\u001b[0m \u001b[0ma\u001b[0m\u001b[0;34m,\u001b[0m \u001b[0mb\u001b[0m\u001b[0;34m,\u001b[0m \u001b[0mxtol\u001b[0m\u001b[0;34m,\u001b[0m \u001b[0mrtol\u001b[0m\u001b[0;34m,\u001b[0m \u001b[0mmaxiter\u001b[0m\u001b[0;34m,\u001b[0m \u001b[0margs\u001b[0m\u001b[0;34m,\u001b[0m \u001b[0mfull_output\u001b[0m\u001b[0;34m,\u001b[0m \u001b[0mdisp\u001b[0m\u001b[0;34m)\u001b[0m\u001b[0;34m\u001b[0m\u001b[0;34m\u001b[0m\u001b[0m\n\u001b[0m\u001b[1;32m    777\u001b[0m     \u001b[0;32mreturn\u001b[0m \u001b[0mresults_c\u001b[0m\u001b[0;34m(\u001b[0m\u001b[0mfull_output\u001b[0m\u001b[0;34m,\u001b[0m \u001b[0mr\u001b[0m\u001b[0;34m)\u001b[0m\u001b[0;34m\u001b[0m\u001b[0;34m\u001b[0m\u001b[0m\n\u001b[1;32m    778\u001b[0m \u001b[0;34m\u001b[0m\u001b[0m\n",
      "\u001b[0;31mValueError\u001b[0m: f(a) and f(b) must have different signs"
     ]
    }
   ],
   "source": [
    "N=4\n",
    "CL=0.693\n",
    "muL, muU = compute_interval(N)\n",
    "print('N = 4, mu in [%3.1f, %3.1f] @ 68%s CL' % (muL, muU, '%'))"
   ]
  },
  {
   "cell_type": "markdown",
   "id": "8bb76004-db1a-4709-9b51-658a5da463b2",
   "metadata": {},
   "source": [
    "# least squares fit"
   ]
  },
  {
   "cell_type": "code",
   "execution_count": 20,
   "id": "3f591cc9-91e5-403f-a8f5-06f22064b76e",
   "metadata": {},
   "outputs": [],
   "source": [
    "# standard system modules\n",
    "import os, sys\n",
    "\n",
    "# standard table manipulation module\n",
    "import pandas as pd\n",
    "\n",
    "# standard array manipulation module\n",
    "import numpy as np\n",
    "\n",
    "# standard scientific python module\n",
    "import scipy as sp\n",
    "import scipy.stats as st\n",
    "import scipy.optimize as op\n",
    "\n",
    "# standard symbolic algebra pakage\n",
    "import sympy as sm\n",
    "\n",
    "# standard plotting module\n",
    "import matplotlib as mp\n",
    "import matplotlib.pyplot as plt\n",
    "\n",
    "# make plots appear inline\n",
    "%matplotlib inline\n",
    "\n",
    "# update fonts\n",
    "font = {'family' : 'serif',\n",
    "        'weight' : 'normal',\n",
    "        'size'   : 20\n",
    "        }\n",
    "mp.rc('font', **font)\n",
    "mp.rc('xtick', labelsize='x-small')\n",
    "mp.rc('ytick', labelsize='x-small')\n",
    "\n",
    "# set usetex = False if Latex is not available on your system\n",
    "mp.rc('text', usetex=True)\n",
    "\n",
    "# set a seed to ensure reproducibility \n",
    "# on a given machine\n",
    "seed = 111\n",
    "rnd = np.random.RandomState(seed)"
   ]
  },
  {
   "cell_type": "code",
   "execution_count": null,
   "id": "40b009a0-a866-4241-93ab-e3caf9c419c7",
   "metadata": {},
   "outputs": [],
   "source": [
    "ndata=\n",
    "np.random.standard_normal(ndata)#this draws from gauss(mean=0, std=1)"
   ]
  }
 ],
 "metadata": {
  "kernelspec": {
   "display_name": "Python 3 (ipykernel)",
   "language": "python",
   "name": "python3"
  },
  "language_info": {
   "codemirror_mode": {
    "name": "ipython",
    "version": 3
   },
   "file_extension": ".py",
   "mimetype": "text/x-python",
   "name": "python",
   "nbconvert_exporter": "python",
   "pygments_lexer": "ipython3",
   "version": "3.7.7"
  }
 },
 "nbformat": 4,
 "nbformat_minor": 5
}
