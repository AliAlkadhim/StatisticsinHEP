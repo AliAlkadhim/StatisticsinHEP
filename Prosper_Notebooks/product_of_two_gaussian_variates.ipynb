{
 "cells": [
  {
   "cell_type": "markdown",
   "metadata": {},
   "source": [
    "# Product of Two Gaussian Variates\n",
    " >__Created__:  4 June 2019 Harrison B. Prosper, INFN SOS 2019, Paestum, Italy<br>\n",
    " >__Updated__: October 2021 for LPC Stats 2021\n",
    " \n",
    "We approximate the density of the product $t = x \\, y$ of two\n",
    " standard Gaussian variates $x$ and $y$ by simulation and compare the simulated density to the exact result. The domain of $t$ is\n",
    " $(-\\infty, \\infty)$.\n",
    "\n",
    "The density of a standard Gaussian variate $z$ is $g(z) = \\exp(-\\frac{1}{2} z^2) \\, / \\sqrt{2\\pi}$, therefore, the density, $p(t)$, can be written as\n",
    "\n",
    "\\begin{align*}\n",
    "p(t) &= \\int_{-\\infty}^{\\infty}  \\int_{-\\infty}^{\\infty} \\delta(t - x \\, y) \\, g(x) \\, g(y) \\, dx \\, dy ,\\\\\n",
    "&= \\frac{1}{2\\pi}\\int_{-\\infty}^{\\infty} e^{-\\frac{1}{2} x^2} \\,\n",
    "    \\left[ \\int_{-\\infty}^{\\infty} \\delta(t - x \\, y) \\, e^{-\\frac{1}{2} y^2} \\, dy \\right] \\, dx.\n",
    "\\end{align*}\n",
    "\n",
    "Transforming\n",
    "\\begin{align*}\n",
    "p(t) \n",
    "&= \\frac{1}{2\\pi}\\int_{-\\infty}^{\\infty} \n",
    "    \\int_{-\\infty}^{\\infty} \\delta(t - x \\, y) \\, e^{-\\frac{1}{2} (x^2 + y^2)} \\, dx \\, dy,\n",
    "\\end{align*}\n",
    "to polar coordinates ($x = r \\cos\\phi, y = r \\sin\\phi$, $r \\in (0, \\infty), \\phi \\in (0, 2\\pi))$ yields\n",
    "\n",
    "\\begin{align*}\n",
    "p(t) \n",
    "&= \\frac{1}{2\\pi}\\int_{0}^{2\\pi}  d\\phi\n",
    "    \\int_{0}^{\\infty} \\delta(t - r^2 \\sin\\phi\\cos\\phi) \\, e^{-\\frac{1}{2} r^2} \\, r \\, dr,\\\\\n",
    "&= \\frac{1}{2\\pi}\\int_{0}^{2\\pi}  d\\phi\n",
    "    \\int_{0}^{\\infty} \\delta(t - u \\sin 2\\phi) \\, e^{-u} \\, du, \\text{ where } u = r^2 \\, / \\, 2 .    \n",
    "\\end{align*}\n",
    "\n",
    "Writing $h(u) = t - u \\sin 2 \\phi$ and using $\\delta(h(u)) = \\delta(u - u_0) \\, / \\, |dh/du|$, where $u_0 = t \\, /  \\sin 2 \\phi \\geq 0$ is the solution of $h(u) = 0$, we can write $\\delta(h) = \\delta(u - u_0)/ |\\sin 2 \\phi|$. Therefore, \n",
    "\\begin{align*}\n",
    "p(t) &= \\frac{1}{2\\pi}\\int_{0}^{2\\pi} \n",
    "     \\frac{e^{- t \\, / \\sin 2 \\phi}}{\\sin 2 \\phi} \\, d\\phi,\n",
    "\\end{align*}\n",
    "\n",
    "subject to the constraints $\\color{blue}{\\sin 2\\phi \\geq 0}$ and \n",
    "$\\color{blue}{t \\, / \\sin 2 \\phi \\geq 0}$.\n",
    "These constraints imply that $\\phi$ is restricted to the 1st and 3rd quadrant in the $x, y$ plane (that is, $\\phi \\in (0, \\pi / 2)\\,\\cup \\, (\\pi, 3\\pi / 2)$) and $t$ must be replaced by $|t|$. Moreover, since the integral in the 1st and 3rd quadrants have the same value we can limit the integration to the 1st quadrant and multiple the integral by 2. This leads to\n",
    "\\begin{align*}\n",
    "p(t) &= \\frac{1}{\\pi}\\int_{0}^{\\pi/2} \n",
    "     \\frac{e^{- |t| \\, / \\sin 2 \\phi}}{\\sin 2 \\phi} \\, d\\phi,\n",
    "\\end{align*}\n",
    "\n",
    "which, with the substitution, $2 \\phi = \\pi z$, yields,\n",
    "\\begin{align*}\n",
    " p(t) &= \\frac{1}{2}\\int_{0}^{1} \n",
    "     \\frac{e^{- |t| \\, / \\sin \\pi z}}{\\sin \\pi z} \\, dz.\n",
    "\\end{align*}\n",
    "\n",
    "\n",
    "### Alternative representation\n",
    "\n",
    "Using the identity $\\delta(h(y)) = \\delta(y - y_0) \\, / \\, |dh\\,/\\,dy|$ and noting that $y_0 = t \\, / \\, x$ is the solution of $h(y) = t - x y = 0$, we can write\n",
    "\n",
    "\\begin{align*}\n",
    "p(t) &= \\frac{1}{2\\pi}\\int_{-\\infty}^{\\infty} e^{-\\frac{1}{2} x^2} \\,\n",
    "    \\left[ \\int_{-\\infty}^{\\infty} \\frac{\\delta(y - y_0)}{|x|} \\, e^{-\\frac{1}{2} y^2} \\, dy \\right] \\, dx, \\\\\n",
    "    &= \\frac{1}{2\\pi}\\int_{-\\infty}^{\\infty} e^{-\\frac{1}{2} x^2} \\,\n",
    "    \\frac{1}{|x|} \\, e^{-\\frac{1}{2} t^2 x^{-2}} \\, dx.\n",
    "\\end{align*}\n",
    "\n",
    "Since the integrand is an even function of $x$, the integral can be written\n",
    "as\n",
    "\n",
    "\\begin{align*}\n",
    "p(t) &= \\frac{1}{\\pi}\\int_0^{\\infty} e^{-\\frac{1}{2}( x^2 \\, +\\, t^2 x^{-2})} \\, \\frac{dx}{x}.\n",
    "\\end{align*}\n",
    "\n",
    "With the substitution $x = z \\, / \\, (1 - z)$, $p(t)$ can be expressed as\n",
    "\n",
    "$$p(t) = \\frac{1}{\\pi} \\int_{0}^{1} \\frac{\\exp\\left[- \\left(z^{2} (1 - z)^{-2} + t^{2}z^{-2} (1 - z)^{2} \\right)/2\\right]}{z (1 - z)}\n",
    " \\, dz.$$\n",
    "\n",
    "\n",
    "\n"
   ]
  },
  {
   "cell_type": "code",
   "execution_count": 1,
   "metadata": {},
   "outputs": [],
   "source": [
    "# standard system modules\n",
    "import os, sys\n",
    "\n",
    "# standard array manipulation module\n",
    "import numpy as np\n",
    "\n",
    "# standard scientific python module\n",
    "import scipy as sp\n",
    "import scipy.stats as st\n",
    "import scipy.integrate as integrate\n",
    "\n",
    "# standard symbolic algebra module\n",
    "import sympy as sm\n",
    "sm.init_printing()\n",
    "\n",
    "# standard plotting module\n",
    "import matplotlib as mp\n",
    "import matplotlib.pyplot as plt\n",
    "import pylab as pl\n",
    "\n",
    "# arbitrary precision real and complex calculation\n",
    "#import mpmath\n",
    "\n",
    "# make plots appear inline\n",
    "%matplotlib inline"
   ]
  },
  {
   "cell_type": "code",
   "execution_count": 2,
   "metadata": {
    "scrolled": true
   },
   "outputs": [],
   "source": [
    "# update fonts\n",
    "font = {'family' : 'serif',\n",
    "        'weight' : 'normal',\n",
    "        'size'   : 20\n",
    "        }\n",
    "mp.rc('font', **font)\n",
    "mp.rc('xtick', labelsize='x-small')\n",
    "mp.rc('ytick', labelsize='x-small')\n",
    "mp.rc('text', usetex=True)\n",
    "\n",
    "# set a seed to ensure reproducibility \n",
    "# on a given machine\n",
    "seed = 111\n",
    "rnd  = np.random.RandomState(seed)"
   ]
  },
  {
   "cell_type": "markdown",
   "metadata": {},
   "source": [
    "### Generate $x$ and $y$ data from Gaussian distribution"
   ]
  },
  {
   "cell_type": "code",
   "execution_count": 3,
   "metadata": {},
   "outputs": [],
   "source": [
    "N = 500000\n",
    "x = rnd.normal(0, 1, N)\n",
    "y = rnd.normal(0, 1, N)\n",
    "t = [X*Y for X, Y in zip(x, y)]"
   ]
  },
  {
   "cell_type": "markdown",
   "metadata": {},
   "source": [
    "### Histogram $t = x y$ and compare with the density"
   ]
  },
  {
   "cell_type": "code",
   "execution_count": 6,
   "metadata": {},
   "outputs": [
    {
     "name": "stdout",
     "output_type": "stream",
     "text": [
      "0.134016241\n"
     ]
    }
   ],
   "source": [
    "def pdf1(t, N=100, zmin=0.0, zmax=1.0):\n",
    "    def F(t, z):\n",
    "        tt = t*t\n",
    "        zz = (z/(1 - z))**2\n",
    "        return np.exp(-(zz + tt/zz)/2)/(z*(1 - z))\n",
    "    dz = (zmax-zmin)/N\n",
    "    a = dz / np.pi\n",
    "    return a * sum([F(t, zmin + (i+0.5)*dz) for i in range(N)])\n",
    "print('%10.9f' % pdf1(1))"
   ]
  },
  {
   "cell_type": "code",
   "execution_count": 7,
   "metadata": {},
   "outputs": [
    {
     "name": "stdout",
     "output_type": "stream",
     "text": [
      "0.134016241\n"
     ]
    }
   ],
   "source": [
    "def pdf2(t, N=100, zmin=0.0, zmax=1.0):\n",
    "    def F(t, z):\n",
    "        s = np.sin(np.pi*z)\n",
    "        y = sm.exp(- np.abs(t) / s) / s\n",
    "        return y\n",
    "    \n",
    "    dz = (zmax-zmin)/N\n",
    "    a = dz / 2\n",
    "    return a*np.sum([F(t, zmin + (i+0.5)*dz) for i in range(N)])\n",
    "print('%10.9f' % pdf2(1))"
   ]
  },
  {
   "cell_type": "code",
   "execution_count": 13,
   "metadata": {},
   "outputs": [],
   "source": [
    "def plotData(t, text, pdf,\n",
    "             nbins=600, \n",
    "             xmin=-6, xmax=6,\n",
    "             ymin= 0, ymax=2.0,\n",
    "             ftsize=24, \n",
    "             color=(0.1,0.3,0.8), \n",
    "             fgsize=(8,5)):\n",
    "\n",
    "    # set size of figure\n",
    "    plt.figure(figsize=fgsize)\n",
    "    \n",
    "    # histogram data\n",
    "    # returns y, x, o\n",
    "    # y: counts\n",
    "    # x: bin boundaries\n",
    "    # o: objects (not used, hence the use of \"_\")\n",
    "    y, x, _ = plt.hist(t, \n",
    "                       bins=nbins, \n",
    "                       color=color,\n",
    "                       alpha=0.20,\n",
    "                       range=(xmin, xmax), \n",
    "                       density=True)\n",
    "\n",
    "    # convert bin boundaries to bin centers\n",
    "    # Note: x[1:]  = x[1], x[2], ..., x[n-1]\n",
    "    #       x[:-1] = x[0], x[1], ..., x[n-2]\n",
    "    z  = (x[:-1] + x[1:])/2\n",
    "    \n",
    "    # superimpose density\n",
    "    f  = [pdf(u) for u in z]\n",
    "    plt.plot(z, f, color=(1,0,0), lw=2)\n",
    "    \n",
    "    # add legends \n",
    "    plt.legend(['exact', \n",
    "                'by simulation'])\n",
    "    \n",
    "    # set up x, y limits\n",
    "    plt.xlim(xmin, xmax)\n",
    "    plt.ylim(ymin, ymax)\n",
    "    \n",
    "    # add x and y labels\n",
    "    plt.xlabel('$t$', fontsize=ftsize)\n",
    "    plt.ylabel('$p(t)$', fontsize=ftsize)\n",
    "    \n",
    "    # annotate \n",
    "    xwid = (xmax-xmin)/10\n",
    "    ywid = (ymax-ymin)/10\n",
    "\n",
    "    xpos = xmin + xwid/2\n",
    "    ypos = ymin + 8.5*ywid\n",
    "    plt.text(xpos, ypos, text, fontsize=22)\n",
    "    # tighten layout so that image is fully\n",
    "    # contained within viewport\n",
    "    plt.tight_layout()\n",
    "    plt.savefig(\"fig_product_of_two_gaussian_variates.pdf\")\n",
    "    plt.show()"
   ]
  },
  {
   "cell_type": "code",
   "execution_count": 14,
   "metadata": {},
   "outputs": [
    {
     "data": {
      "image/png": "[encoded data removed]",
      "text/plain": [
       "<Figure size 576x360 with 1 Axes>"
      ]
     },
     "metadata": {
      "needs_background": "light"
     },
     "output_type": "display_data"
    }
   ],
   "source": [
    "text1 =  r'$p(t) = \\frac{1}{\\pi} \\int_{0}^{1} '\\\n",
    "        r'\\frac{\\exp\\left[- \\left(z^{2} (1 - z)^{-2}'\\\n",
    "        r' + t^{2}z^{-2} (1 - z)^{2} '\\\n",
    "        r'\\right)/2\\right]}{z (1 - z)} \\, dz$'\n",
    "text2 =  r'$p(t) = \\frac{1}{2} \\int_{0}^{1} \\, '\\\n",
    "        r'\\frac{\\exp[- |t| \\, / \\, \\sin (\\pi z) ]}{\\sin (\\pi z)} \\, dz$'\n",
    "\n",
    "plotData(t, text2, pdf2)"
   ]
  },
  {
   "cell_type": "code",
   "execution_count": null,
   "metadata": {},
   "outputs": [],
   "source": []
  }
 ],
 "metadata": {
  "kernelspec": {
   "display_name": "Python 3 (ipykernel)",
   "language": "python",
   "name": "python3"
  },
  "language_info": {
   "codemirror_mode": {
    "name": "ipython",
    "version": 3
   },
   "file_extension": ".py",
   "mimetype": "text/x-python",
   "name": "python",
   "nbconvert_exporter": "python",
   "pygments_lexer": "ipython3",
   "version": "3.8.11"
  }
 },
 "nbformat": 4,
 "nbformat_minor": 1
}
