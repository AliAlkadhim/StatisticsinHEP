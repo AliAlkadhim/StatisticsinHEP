{
 "cells": [
  {
   "cell_type": "markdown",
   "metadata": {},
   "source": [
    "# Week 01: Birthday Problem\n",
    " >__Created__:  LPC 2021 Harrison B. Prosper\n",
    "\n",
    "### Classic Birthday Problem\n",
    "The classic birthday problem: What's the chance that in a randomly assembled crowd of $n$ people that at least two people have the same birthday? How large must the crowd be for that chance to be at least 50%? Assume that there are $K$ possible birthdays (usually, $K = 365)$ and each birthday is equally probable.\n",
    "\n",
    "### A Variation\n",
    "What's the chance to have *exactly* 2 people with identical birthdays, while the birthdays of all others in the crowd are unique? What crowd size maximizes the chance to have only duplicate birthday.\n",
    "\n",
    "\n",
    "Here we use the Python module __itertools__ to simulate the problem."
   ]
  },
  {
   "cell_type": "code",
   "execution_count": 1,
   "metadata": {},
   "outputs": [],
   "source": [
    "import os, sys\n",
    "import numpy as np\n",
    "from itertools import permutations, combinations, product\n",
    "from math import factorial\n",
    "from copy import copy"
   ]
  },
  {
   "cell_type": "markdown",
   "metadata": {},
   "source": [
    "### Create all crowds of size $n$ with $K$ possible birthdays"
   ]
  },
  {
   "cell_type": "code",
   "execution_count": 2,
   "metadata": {},
   "outputs": [
    {
     "name": "stdout",
     "output_type": "stream",
     "text": [
      "number of possible crowds 531441\n"
     ]
    }
   ],
   "source": [
    "K = 9  # number of birthdays\n",
    "n = 6  # crowd size\n",
    "\n",
    "# initialize an n-tuple: (z1,...,zn)\n",
    "a = range(1, K+1)\n",
    "p = product(a, repeat=n)\n",
    "\n",
    "# create all possible crowds\n",
    "crowds = []\n",
    "while 1:\n",
    "    try:\n",
    "        crowd = next(p)\n",
    "    except StopIteration:\n",
    "        break\n",
    "    crowds.append(crowd)\n",
    "\n",
    "# number of crowds\n",
    "M  = len(crowds)\n",
    "print('number of possible crowds', M)"
   ]
  },
  {
   "cell_type": "markdown",
   "metadata": {},
   "source": [
    "### Algorithm\n",
    "Loop over crowds. If a crowd of size $n$ has one duplicate birthday then when converted to a __set__ the crowd size will be $n-1$."
   ]
  },
  {
   "cell_type": "code",
   "execution_count": 3,
   "metadata": {},
   "outputs": [
    {
     "name": "stdout",
     "output_type": "stream",
     "text": [
      "number of crowds with no duplicates      60480 \n",
      "number of crowds with one duplicate     226800 \n",
      "probability of one duplicate:            0.427\n"
     ]
    }
   ],
   "source": [
    "N0 = 0 # number of crowds with no duplicate birthdays\n",
    "N  = 0 # number of crowds with one duplicate birthday\n",
    "\n",
    "for crowd in crowds:\n",
    "    size = len(set(crowd))\n",
    "    if size == n:\n",
    "        N0 += 1\n",
    "    elif size == n-1:\n",
    "        N  += 1\n",
    "                \n",
    "p = float(N)/M\n",
    "    \n",
    "print('number of crowds with no duplicates %10d ' % N0)\n",
    "print('number of crowds with one duplicate %10d ' % N)\n",
    "print('probability of one duplicate:       %10.3f'% p)"
   ]
  },
  {
   "cell_type": "code",
   "execution_count": null,
   "metadata": {
    "collapsed": true
   },
   "outputs": [],
   "source": []
  }
 ],
 "metadata": {
  "kernelspec": {
   "display_name": "Python 3 (ipykernel)",
   "language": "python",
   "name": "python3"
  },
  "language_info": {
   "codemirror_mode": {
    "name": "ipython",
    "version": 3
   },
   "file_extension": ".py",
   "mimetype": "text/x-python",
   "name": "python",
   "nbconvert_exporter": "python",
   "pygments_lexer": "ipython3",
   "version": "3.8.11"
  }
 },
 "nbformat": 4,
 "nbformat_minor": 1
}
